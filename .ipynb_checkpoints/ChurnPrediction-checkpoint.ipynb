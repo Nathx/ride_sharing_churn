{
 "cells": [
  {
   "cell_type": "markdown",
   "metadata": {},
   "source": [
    "# ML Case  Study\n",
    "\n",
    "### Goals\n",
    "\n",
    "   - Code churn\n",
    "      - Convert trips in last 30 to date time (Done)\n",
    "      - booleanify (Done)\n",
    "   - Dummify cities (Done)\n",
    "   - Dummify phone type (Done)\n",
    "   - Determine which columns are likely to be predictive\n",
    "       - lmplots conditioned on churn\n",
    "       - categorical means by churn \n",
    "         - Clearly phone and city are important for churn rate\n",
    "           - significantly so?\n",
    "           - Why?\n",
    "   - Handle class imbalance\n",
    "       - 62% churn - likely not important\n",
    "   \n",
    "### Model building\n",
    "\n",
    "Define goals: Prediction or interpretation\n",
    " \n",
    " - Choose model type\n",
    "\n",
    "     - Has feature importance \n",
    "       - Random forest\n",
    "     - interpretable coefficients?\n",
    "       - logistic regression\n",
    "  - Create different models by city or by phone type\n",
    "    - Try to understand why there are such big differences in the cities and phones\n",
    "     "
   ]
  },
  {
   "cell_type": "code",
   "execution_count": 1,
   "metadata": {
    "collapsed": true
   },
   "outputs": [],
   "source": [
    "import pandas as pd\n",
    "import numpy as np\n",
    "import matplotlib.pyplot as plt\n",
    "import seaborn as sns\n",
    "%matplotlib inline"
   ]
  },
  {
   "cell_type": "code",
   "execution_count": 2,
   "metadata": {
    "collapsed": true
   },
   "outputs": [],
   "source": [
    "\n",
    "df = pd.read_csv('data/churn.csv')\n"
   ]
  },
  {
   "cell_type": "code",
   "execution_count": null,
   "metadata": {
    "collapsed": true
   },
   "outputs": [],
   "source": [
    "\n"
   ]
  },
  {
   "cell_type": "markdown",
   "metadata": {},
   "source": [
    "# Data Cleaning"
   ]
  },
  {
   "cell_type": "code",
   "execution_count": 3,
   "metadata": {
    "collapsed": false
   },
   "outputs": [],
   "source": [
    "df.last_trip_date = pd.to_datetime(df.last_trip_date)\n",
    "\n",
    "# Add churn column\n",
    "df['days_since_last_trip'] = (df.last_trip_date.max() - df.last_trip_date) / np.timedelta64(1, 'D')\n",
    "df['churn'] = (df['days_since_last_trip'] > 30)\n",
    "\n",
    "# Days since signup\n",
    "df.signup_date = pd.to_datetime(df.signup_date)\n",
    "df['days_since_signup'] = (df.last_trip_date.max() - df.signup_date) / np.timedelta64(1, 'D')"
   ]
  },
  {
   "cell_type": "code",
   "execution_count": 4,
   "metadata": {
    "collapsed": false
   },
   "outputs": [
    {
     "data": {
      "text/html": [
       "<div>\n",
       "<table border=\"1\" class=\"dataframe\">\n",
       "  <thead>\n",
       "    <tr style=\"text-align: right;\">\n",
       "      <th></th>\n",
       "      <th>avg_dist</th>\n",
       "      <th>avg_rating_by_driver</th>\n",
       "      <th>avg_rating_of_driver</th>\n",
       "      <th>avg_surge</th>\n",
       "      <th>city</th>\n",
       "      <th>last_trip_date</th>\n",
       "      <th>phone</th>\n",
       "      <th>signup_date</th>\n",
       "      <th>surge_pct</th>\n",
       "      <th>trips_in_first_30_days</th>\n",
       "      <th>luxury_car_user</th>\n",
       "      <th>weekday_pct</th>\n",
       "      <th>days_since_last_trip</th>\n",
       "      <th>churn</th>\n",
       "      <th>days_since_signup</th>\n",
       "    </tr>\n",
       "  </thead>\n",
       "  <tbody>\n",
       "    <tr>\n",
       "      <th>0</th>\n",
       "      <td>3.67</td>\n",
       "      <td>5.0</td>\n",
       "      <td>4.7</td>\n",
       "      <td>1.10</td>\n",
       "      <td>King's Landing</td>\n",
       "      <td>2014-06-17</td>\n",
       "      <td>iPhone</td>\n",
       "      <td>2014-01-25</td>\n",
       "      <td>15.4</td>\n",
       "      <td>4</td>\n",
       "      <td>True</td>\n",
       "      <td>46.2</td>\n",
       "      <td>14</td>\n",
       "      <td>False</td>\n",
       "      <td>157</td>\n",
       "    </tr>\n",
       "    <tr>\n",
       "      <th>1</th>\n",
       "      <td>8.26</td>\n",
       "      <td>5.0</td>\n",
       "      <td>5.0</td>\n",
       "      <td>1.00</td>\n",
       "      <td>Astapor</td>\n",
       "      <td>2014-05-05</td>\n",
       "      <td>Android</td>\n",
       "      <td>2014-01-29</td>\n",
       "      <td>0.0</td>\n",
       "      <td>0</td>\n",
       "      <td>False</td>\n",
       "      <td>50.0</td>\n",
       "      <td>57</td>\n",
       "      <td>True</td>\n",
       "      <td>153</td>\n",
       "    </tr>\n",
       "    <tr>\n",
       "      <th>2</th>\n",
       "      <td>0.77</td>\n",
       "      <td>5.0</td>\n",
       "      <td>4.3</td>\n",
       "      <td>1.00</td>\n",
       "      <td>Astapor</td>\n",
       "      <td>2014-01-07</td>\n",
       "      <td>iPhone</td>\n",
       "      <td>2014-01-06</td>\n",
       "      <td>0.0</td>\n",
       "      <td>3</td>\n",
       "      <td>False</td>\n",
       "      <td>100.0</td>\n",
       "      <td>175</td>\n",
       "      <td>True</td>\n",
       "      <td>176</td>\n",
       "    </tr>\n",
       "    <tr>\n",
       "      <th>3</th>\n",
       "      <td>2.36</td>\n",
       "      <td>4.9</td>\n",
       "      <td>4.6</td>\n",
       "      <td>1.14</td>\n",
       "      <td>King's Landing</td>\n",
       "      <td>2014-06-29</td>\n",
       "      <td>iPhone</td>\n",
       "      <td>2014-01-10</td>\n",
       "      <td>20.0</td>\n",
       "      <td>9</td>\n",
       "      <td>True</td>\n",
       "      <td>80.0</td>\n",
       "      <td>2</td>\n",
       "      <td>False</td>\n",
       "      <td>172</td>\n",
       "    </tr>\n",
       "    <tr>\n",
       "      <th>4</th>\n",
       "      <td>3.13</td>\n",
       "      <td>4.9</td>\n",
       "      <td>4.4</td>\n",
       "      <td>1.19</td>\n",
       "      <td>Winterfell</td>\n",
       "      <td>2014-03-15</td>\n",
       "      <td>Android</td>\n",
       "      <td>2014-01-27</td>\n",
       "      <td>11.8</td>\n",
       "      <td>14</td>\n",
       "      <td>False</td>\n",
       "      <td>82.4</td>\n",
       "      <td>108</td>\n",
       "      <td>True</td>\n",
       "      <td>155</td>\n",
       "    </tr>\n",
       "  </tbody>\n",
       "</table>\n",
       "</div>"
      ],
      "text/plain": [
       "   avg_dist  avg_rating_by_driver  avg_rating_of_driver  avg_surge  \\\n",
       "0      3.67                   5.0                   4.7       1.10   \n",
       "1      8.26                   5.0                   5.0       1.00   \n",
       "2      0.77                   5.0                   4.3       1.00   \n",
       "3      2.36                   4.9                   4.6       1.14   \n",
       "4      3.13                   4.9                   4.4       1.19   \n",
       "\n",
       "             city last_trip_date    phone signup_date  surge_pct  \\\n",
       "0  King's Landing     2014-06-17   iPhone  2014-01-25       15.4   \n",
       "1         Astapor     2014-05-05  Android  2014-01-29        0.0   \n",
       "2         Astapor     2014-01-07   iPhone  2014-01-06        0.0   \n",
       "3  King's Landing     2014-06-29   iPhone  2014-01-10       20.0   \n",
       "4      Winterfell     2014-03-15  Android  2014-01-27       11.8   \n",
       "\n",
       "   trips_in_first_30_days luxury_car_user  weekday_pct  days_since_last_trip  \\\n",
       "0                       4            True         46.2                    14   \n",
       "1                       0           False         50.0                    57   \n",
       "2                       3           False        100.0                   175   \n",
       "3                       9            True         80.0                     2   \n",
       "4                      14           False         82.4                   108   \n",
       "\n",
       "   churn  days_since_signup  \n",
       "0  False                157  \n",
       "1   True                153  \n",
       "2   True                176  \n",
       "3  False                172  \n",
       "4   True                155  "
      ]
     },
     "execution_count": 4,
     "metadata": {},
     "output_type": "execute_result"
    }
   ],
   "source": [
    "df.head()\n"
   ]
  },
  {
   "cell_type": "markdown",
   "metadata": {},
   "source": [
    "# Plots Conditioned by Churn"
   ]
  },
  {
   "cell_type": "code",
   "execution_count": 5,
   "metadata": {
    "collapsed": false
   },
   "outputs": [
    {
     "data": {
      "image/png": "[encoded data removed]",
      "text/plain": [
       "<matplotlib.figure.Figure at 0x10267aed0>"
      ]
     },
     "metadata": {},
     "output_type": "display_data"
    }
   ],
   "source": [
    "df['phone'] = np.where(df.phone.isnull(), \"iPhone\", df.phone)\n",
    "df.groupby('phone').churn.mean().plot(kind=\"bar\")\n",
    "plt.title(\"Mean Churn by Phone\");"
   ]
  },
  {
   "cell_type": "code",
   "execution_count": 6,
   "metadata": {
    "collapsed": false
   },
   "outputs": [
    {
     "data": {
      "text/plain": [
       "<matplotlib.text.Text at 0x115da2350>"
      ]
     },
     "execution_count": 6,
     "metadata": {},
     "output_type": "execute_result"
    },
    {
     "data": {
      "image/png": "[encoded data removed]",
      "text/plain": [
       "<matplotlib.figure.Figure at 0x115815cd0>"
      ]
     },
     "metadata": {},
     "output_type": "display_data"
    }
   ],
   "source": [
    "df['phone'].value_counts().plot(kind=\"bar\")\n",
    "plt.title(\"Number of users by Phone type\")"
   ]
  },
  {
   "cell_type": "code",
   "execution_count": 7,
   "metadata": {
    "collapsed": false
   },
   "outputs": [
    {
     "data": {
      "image/png": "[encoded data removed]",
      "text/plain": [
       "<matplotlib.figure.Figure at 0x115c164d0>"
      ]
     },
     "metadata": {},
     "output_type": "display_data"
    }
   ],
   "source": [
    "df['city'].value_counts().plot(kind=\"bar\")\n",
    "plt.title(\"Counts of users by phone\");\n"
   ]
  },
  {
   "cell_type": "code",
   "execution_count": 8,
   "metadata": {
    "collapsed": false
   },
   "outputs": [
    {
     "data": {
      "image/png": "[encoded data removed]",
      "text/plain": [
       "<matplotlib.figure.Figure at 0x115c0c210>"
      ]
     },
     "metadata": {},
     "output_type": "display_data"
    }
   ],
   "source": [
    "df.groupby('city').churn.mean().plot(kind=\"bar\")\n",
    "plt.title(\"Mean Churn by City\");"
   ]
  },
  {
   "cell_type": "code",
   "execution_count": null,
   "metadata": {
    "collapsed": false
   },
   "outputs": [],
   "source": [
    "sns.pairplot(df.dropna().sample(1000)[[col for col in df.columns if col not in ['city', 'phone']]], hue=\"churn\")"
   ]
  },
  {
   "cell_type": "markdown",
   "metadata": {},
   "source": [
    "# Dummyifying Variables\n"
   ]
  },
  {
   "cell_type": "code",
   "execution_count": 9,
   "metadata": {
    "collapsed": false
   },
   "outputs": [],
   "source": [
    "df['isAndroid'] = np.where(df['phone'] == \"Android\", True, False)\n",
    "df.drop('phone', axis=1, inplace=True)\n",
    "\n",
    "df_city = pd.get_dummies(df['city'])\n",
    "frames = [df, df_city]\n",
    "df = pd.concat(frames, axis=1)\n",
    "df = df.drop('city', axis=1)"
   ]
  },
  {
   "cell_type": "code",
   "execution_count": 10,
   "metadata": {
    "collapsed": false
   },
   "outputs": [
    {
     "data": {
      "text/html": [
       "<div>\n",
       "<table border=\"1\" class=\"dataframe\">\n",
       "  <thead>\n",
       "    <tr style=\"text-align: right;\">\n",
       "      <th></th>\n",
       "      <th>avg_dist</th>\n",
       "      <th>avg_rating_by_driver</th>\n",
       "      <th>avg_rating_of_driver</th>\n",
       "      <th>avg_surge</th>\n",
       "      <th>last_trip_date</th>\n",
       "      <th>signup_date</th>\n",
       "      <th>surge_pct</th>\n",
       "      <th>trips_in_first_30_days</th>\n",
       "      <th>luxury_car_user</th>\n",
       "      <th>weekday_pct</th>\n",
       "      <th>days_since_last_trip</th>\n",
       "      <th>churn</th>\n",
       "      <th>days_since_signup</th>\n",
       "      <th>isAndroid</th>\n",
       "      <th>Astapor</th>\n",
       "      <th>King's Landing</th>\n",
       "      <th>Winterfell</th>\n",
       "    </tr>\n",
       "  </thead>\n",
       "  <tbody>\n",
       "    <tr>\n",
       "      <th>0</th>\n",
       "      <td>3.67</td>\n",
       "      <td>5.0</td>\n",
       "      <td>4.7</td>\n",
       "      <td>1.10</td>\n",
       "      <td>2014-06-17</td>\n",
       "      <td>2014-01-25</td>\n",
       "      <td>15.4</td>\n",
       "      <td>4</td>\n",
       "      <td>True</td>\n",
       "      <td>46.2</td>\n",
       "      <td>14</td>\n",
       "      <td>False</td>\n",
       "      <td>157</td>\n",
       "      <td>False</td>\n",
       "      <td>0</td>\n",
       "      <td>1</td>\n",
       "      <td>0</td>\n",
       "    </tr>\n",
       "    <tr>\n",
       "      <th>1</th>\n",
       "      <td>8.26</td>\n",
       "      <td>5.0</td>\n",
       "      <td>5.0</td>\n",
       "      <td>1.00</td>\n",
       "      <td>2014-05-05</td>\n",
       "      <td>2014-01-29</td>\n",
       "      <td>0.0</td>\n",
       "      <td>0</td>\n",
       "      <td>False</td>\n",
       "      <td>50.0</td>\n",
       "      <td>57</td>\n",
       "      <td>True</td>\n",
       "      <td>153</td>\n",
       "      <td>True</td>\n",
       "      <td>1</td>\n",
       "      <td>0</td>\n",
       "      <td>0</td>\n",
       "    </tr>\n",
       "    <tr>\n",
       "      <th>2</th>\n",
       "      <td>0.77</td>\n",
       "      <td>5.0</td>\n",
       "      <td>4.3</td>\n",
       "      <td>1.00</td>\n",
       "      <td>2014-01-07</td>\n",
       "      <td>2014-01-06</td>\n",
       "      <td>0.0</td>\n",
       "      <td>3</td>\n",
       "      <td>False</td>\n",
       "      <td>100.0</td>\n",
       "      <td>175</td>\n",
       "      <td>True</td>\n",
       "      <td>176</td>\n",
       "      <td>False</td>\n",
       "      <td>1</td>\n",
       "      <td>0</td>\n",
       "      <td>0</td>\n",
       "    </tr>\n",
       "    <tr>\n",
       "      <th>3</th>\n",
       "      <td>2.36</td>\n",
       "      <td>4.9</td>\n",
       "      <td>4.6</td>\n",
       "      <td>1.14</td>\n",
       "      <td>2014-06-29</td>\n",
       "      <td>2014-01-10</td>\n",
       "      <td>20.0</td>\n",
       "      <td>9</td>\n",
       "      <td>True</td>\n",
       "      <td>80.0</td>\n",
       "      <td>2</td>\n",
       "      <td>False</td>\n",
       "      <td>172</td>\n",
       "      <td>False</td>\n",
       "      <td>0</td>\n",
       "      <td>1</td>\n",
       "      <td>0</td>\n",
       "    </tr>\n",
       "    <tr>\n",
       "      <th>4</th>\n",
       "      <td>3.13</td>\n",
       "      <td>4.9</td>\n",
       "      <td>4.4</td>\n",
       "      <td>1.19</td>\n",
       "      <td>2014-03-15</td>\n",
       "      <td>2014-01-27</td>\n",
       "      <td>11.8</td>\n",
       "      <td>14</td>\n",
       "      <td>False</td>\n",
       "      <td>82.4</td>\n",
       "      <td>108</td>\n",
       "      <td>True</td>\n",
       "      <td>155</td>\n",
       "      <td>True</td>\n",
       "      <td>0</td>\n",
       "      <td>0</td>\n",
       "      <td>1</td>\n",
       "    </tr>\n",
       "  </tbody>\n",
       "</table>\n",
       "</div>"
      ],
      "text/plain": [
       "   avg_dist  avg_rating_by_driver  avg_rating_of_driver  avg_surge  \\\n",
       "0      3.67                   5.0                   4.7       1.10   \n",
       "1      8.26                   5.0                   5.0       1.00   \n",
       "2      0.77                   5.0                   4.3       1.00   \n",
       "3      2.36                   4.9                   4.6       1.14   \n",
       "4      3.13                   4.9                   4.4       1.19   \n",
       "\n",
       "  last_trip_date signup_date  surge_pct  trips_in_first_30_days  \\\n",
       "0     2014-06-17  2014-01-25       15.4                       4   \n",
       "1     2014-05-05  2014-01-29        0.0                       0   \n",
       "2     2014-01-07  2014-01-06        0.0                       3   \n",
       "3     2014-06-29  2014-01-10       20.0                       9   \n",
       "4     2014-03-15  2014-01-27       11.8                      14   \n",
       "\n",
       "  luxury_car_user  weekday_pct  days_since_last_trip  churn  \\\n",
       "0            True         46.2                    14  False   \n",
       "1           False         50.0                    57   True   \n",
       "2           False        100.0                   175   True   \n",
       "3            True         80.0                     2  False   \n",
       "4           False         82.4                   108   True   \n",
       "\n",
       "   days_since_signup isAndroid  Astapor  King's Landing  Winterfell  \n",
       "0                157     False        0               1           0  \n",
       "1                153      True        1               0           0  \n",
       "2                176     False        1               0           0  \n",
       "3                172     False        0               1           0  \n",
       "4                155      True        0               0           1  "
      ]
     },
     "execution_count": 10,
     "metadata": {},
     "output_type": "execute_result"
    }
   ],
   "source": [
    "df.head()"
   ]
  },
  {
   "cell_type": "markdown",
   "metadata": {},
   "source": [
    "# Investigating Average Surge effect on Churn"
   ]
  },
  {
   "cell_type": "code",
   "execution_count": 11,
   "metadata": {
    "collapsed": false
   },
   "outputs": [
    {
     "data": {
      "text/plain": [
       "churn       \n",
       "False  count    18804.000000\n",
       "       mean         1.073809\n",
       "       std          0.163170\n",
       "       min          1.000000\n",
       "       25%          1.000000\n",
       "       50%          1.000000\n",
       "       75%          1.090000\n",
       "       max          4.500000\n",
       "True   count    31196.000000\n",
       "       mean         1.075339\n",
       "       std          0.251361\n",
       "       min          1.000000\n",
       "       25%          1.000000\n",
       "       50%          1.000000\n",
       "       75%          1.000000\n",
       "       max          8.000000\n",
       "dtype: float64"
      ]
     },
     "execution_count": 11,
     "metadata": {},
     "output_type": "execute_result"
    }
   ],
   "source": [
    "df.groupby('churn').avg_surge.describe()"
   ]
  },
  {
   "cell_type": "code",
   "execution_count": 12,
   "metadata": {
    "collapsed": false
   },
   "outputs": [
    {
     "name": "stderr",
     "output_type": "stream",
     "text": [
      "/Users/jnkcarlson/anaconda/lib/python2.7/site-packages/numpy/core/_methods.py:59: RuntimeWarning: Mean of empty slice.\n",
      "  warnings.warn(\"Mean of empty slice.\", RuntimeWarning)\n"
     ]
    },
    {
     "data": {
      "image/png": "[encoded data removed]",
      "text/plain": [
       "<matplotlib.figure.Figure at 0x117bac350>"
      ]
     },
     "metadata": {},
     "output_type": "display_data"
    }
   ],
   "source": [
    "epsilon = 0.025\n",
    "avg_churn = []\n",
    "avg_surge = []\n",
    "num_obs = []\n",
    "for avg in np.arange(1,8,epsilon*2):\n",
    "    \n",
    "    avg_churn.append(df[(df.avg_surge < avg + epsilon) & (df.avg_surge > avg - epsilon)].churn.mean())\n",
    "    num_obs.append(df[(df.avg_surge < avg + epsilon) & (df.avg_surge > avg - epsilon)].shape[0])\n",
    "    avg_surge.append(avg)\n",
    "\n",
    "ch_vs_surge = pd.DataFrame(zip(avg_surge, avg_churn, num_obs)).rename(columns={0:\"avg_surge\", 1:\"avg_churn\", 2:'num_obs'})\n",
    "\n",
    "sns.lmplot(x='avg_surge', y='avg_churn', data=ch_vs_surge, fit_reg=False, size=7, aspect=2)\n",
    "plt.title(\"Churn rate by Avg surge\")\n",
    "plt.xlabel(\"Average Surge\")\n",
    "plt.ylabel(\"Churn average\")\n",
    "plt.ylim(0.3,1.1);"
   ]
  },
  {
   "cell_type": "markdown",
   "metadata": {},
   "source": [
    "# Pairwise t-tests for categoricals"
   ]
  },
  {
   "cell_type": "code",
   "execution_count": null,
   "metadata": {
    "collapsed": true
   },
   "outputs": [],
   "source": []
  },
  {
   "cell_type": "code",
   "execution_count": 13,
   "metadata": {
    "collapsed": false
   },
   "outputs": [
    {
     "data": {
      "text/plain": [
       "{'Android-iPhone': '(statistic=56.177771317354384, pvalue=0.0)',\n",
       " \"Astapor-King's Landing\": '(statistic=63.338256512763827, pvalue=0.0)',\n",
       " 'Astapor-Winterfell': '(statistic=20.857565532357761, pvalue=4.5904054869968492e-96)',\n",
       " \"King's Landing-Winterfell\": '(statistic=-48.199064350367962, pvalue=0.0)',\n",
       " 'luxury-not luxury': '(statistic=-45.830427267725014, pvalue=0.0)'}"
      ]
     },
     "execution_count": 13,
     "metadata": {},
     "output_type": "execute_result"
    }
   ],
   "source": [
    "from scipy.stats import ttest_ind\n",
    "t_tests = {'Android-iPhone':\"(statistic=56.177771317354384, pvalue=0.0)\",\"Astapor-King's Landing\":\"(statistic=63.338256512763827, pvalue=0.0)\",\n",
    "         'Astapor-Winterfell':\"(statistic=20.857565532357761, pvalue=4.5904054869968492e-96)\",\n",
    "          \"King's Landing-Winterfell\":\"(statistic=-48.199064350367962, pvalue=0.0)\",\n",
    "          'luxury-not luxury':\"(statistic=-45.830427267725014, pvalue=0.0)\"}\n",
    "t_tests"
   ]
  },
  {
   "cell_type": "markdown",
   "metadata": {},
   "source": [
    "# Logistic Regression"
   ]
  },
  {
   "cell_type": "code",
   "execution_count": 14,
   "metadata": {
    "collapsed": false
   },
   "outputs": [
    {
     "data": {
      "text/plain": [
       "0.71634010296640405"
      ]
     },
     "execution_count": 14,
     "metadata": {},
     "output_type": "execute_result"
    }
   ],
   "source": [
    "y = df['churn']\n",
    "col=['avg_dist', 'avg_surge', 'surge_pct', 'Astapor', \"King's Landing\", \"Winterfell\",\n",
    "      'trips_in_first_30_days', 'luxury_car_user', 'weekday_pct',\n",
    "      'isAndroid', 'days_since_signup']\n",
    "X = df[col]\n",
    "\n",
    "X.head()\n",
    "\n",
    "from sklearn.linear_model import LogisticRegression\n",
    "from sklearn.cross_validation import cross_val_score\n",
    "logreg = LogisticRegression()\n",
    "cross_val_score(logreg, X, y, cv=10, scoring='accuracy').mean()"
   ]
  },
  {
   "cell_type": "code",
   "execution_count": 15,
   "metadata": {
    "collapsed": false
   },
   "outputs": [
    {
     "data": {
      "text/plain": [
       "0.71726666666666672"
      ]
     },
     "execution_count": 15,
     "metadata": {},
     "output_type": "execute_result"
    }
   ],
   "source": [
    "from sklearn.cross_validation import train_test_split\n",
    "X_train, X_test, y_train, y_test = train_test_split(X, y, test_size=0.3, random_state=0)\n",
    "\n",
    "model = LogisticRegression()\n",
    "model.fit(X_train, y_train)\n",
    "\n",
    "logit_coefs = pd.DataFrame(zip(X.columns, np.transpose(model.coef_).squeeze())).\\\n",
    "    rename(columns = {0:'Variable', 1:'LogOdds'})\n",
    "    \n",
    "logit_coefs['OddsRatio'] = np.exp(logit_coefs.LogOdds)\n",
    "\n",
    "logit_coefs.sort_values('OddsRatio', ascending=False)\n",
    "sum(model.predict(X_test) == y_test)/float(len(y_test))\n"
   ]
  },
  {
   "cell_type": "markdown",
   "metadata": {},
   "source": [
    "## Insights:\n",
    "\n",
    "Android users have 3 times the odds of churning than do iPhone users, all other things held constant"
   ]
  },
  {
   "cell_type": "markdown",
   "metadata": {},
   "source": [
    "# Random Forest"
   ]
  },
  {
   "cell_type": "code",
   "execution_count": 16,
   "metadata": {
    "collapsed": false
   },
   "outputs": [
    {
     "data": {
      "image/png": "[encoded data removed]",
      "text/plain": [
       "<matplotlib.figure.Figure at 0x118b9ffd0>"
      ]
     },
     "metadata": {},
     "output_type": "display_data"
    }
   ],
   "source": [
    "from sklearn.ensemble import RandomForestClassifier\n",
    "df_xgb = df.drop(['signup_date', 'last_trip_date', 'days_since_last_trip'], axis=1).copy()\n",
    "y = df_xgb.pop('churn').values\n",
    "\n",
    "df_xgb.avg_rating_by_driver = df_xgb.avg_rating_by_driver.fillna(df_xgb.avg_rating_by_driver.mean())\n",
    "df_xgb.avg_rating_of_driver = df_xgb.avg_rating_of_driver.fillna(df_xgb.avg_rating_of_driver.mean())\n",
    "X = df_xgb.values\n",
    "\n",
    "X_train, X_test, y_train, y_test = train_test_split(X,y, random_state=8, test_size=.2)\n",
    "rf = RandomForestClassifier().fit(X_train, y_train)\n",
    "\n",
    "importances = rf.feature_importances_\n",
    "std = np.std([tree.feature_importances_ for tree in rf.estimators_],\n",
    "            axis=0)\n",
    "indices = np.argsort(importances)\n",
    "plt.figure(figsize=(15,5))\n",
    "plt.barh(range(len(indices)), importances[indices], yerr=std[indices], color='lightblue')\n",
    "ticks = plt.yticks(range(len(indices)), df_xgb.columns)\n"
   ]
  },
  {
   "cell_type": "code",
   "execution_count": null,
   "metadata": {
    "collapsed": true
   },
   "outputs": [],
   "source": []
  },
  {
   "cell_type": "markdown",
   "metadata": {},
   "source": [
    "# XGBoost"
   ]
  },
  {
   "cell_type": "code",
   "execution_count": 17,
   "metadata": {
    "collapsed": false
   },
   "outputs": [
    {
     "data": {
      "image/png": "[encoded data removed]",
      "text/plain": [
       "<matplotlib.figure.Figure at 0x118b9fd90>"
      ]
     },
     "metadata": {},
     "output_type": "display_data"
    }
   ],
   "source": [
    "import xgboost\n",
    "gbm = xgboost.XGBClassifier(silent=False, seed=8).fit(X_train, y_train)\n",
    "plot = xgboost.plot_importance(gbm)\n",
    "ticks = plot.set_yticklabels(df_xgb.columns)\n"
   ]
  },
  {
   "cell_type": "code",
   "execution_count": 18,
   "metadata": {
    "collapsed": false
   },
   "outputs": [],
   "source": [
    "df_xgb['churn']=y"
   ]
  },
  {
   "cell_type": "code",
   "execution_count": 19,
   "metadata": {
    "collapsed": false
   },
   "outputs": [
    {
     "data": {
      "text/plain": [
       "<matplotlib.text.Text at 0x117ef1110>"
      ]
     },
     "execution_count": 19,
     "metadata": {},
     "output_type": "execute_result"
    },
    {
     "data": {
      "image/png": "[encoded data removed]",
      "text/plain": [
       "<matplotlib.figure.Figure at 0x115c6a610>"
      ]
     },
     "metadata": {},
     "output_type": "display_data"
    }
   ],
   "source": [
    "\n",
    "df_xgb['perfect_rating_of_driver'] = (df_xgb.avg_rating_of_driver == 5)\n",
    "df_xgb.groupby('perfect_rating_of_driver').mean().churn.plot(kind='bar')\n",
    "plt.title('Perfect rating of driver')\n",
    "\n",
    "df_xgb['perfect_rating_by_driver'] = (df_xgb.avg_rating_by_driver == 5)\n",
    "df_xgb.groupby('perfect_rating_by_driver').mean().churn.plot(kind='bar')\n",
    "plt.title('Perfect rating by driver')"
   ]
  },
  {
   "cell_type": "markdown",
   "metadata": {
    "collapsed": true
   },
   "source": [
    "### Models and Optimization\n",
    "\n",
    "split training and test\n",
    "\n",
    "  - ROC curves\n",
    "  - Profit curve\n",
    "    - Need to define cost and benefit\n",
    "  \n",
    "  - Random forest\n",
    "    - depth, n_trees\n",
    "  - XGBoost\n",
    "    - n_estimators\n",
    "  - KNN\n",
    "    - N\n",
    "  - SVM\n",
    "    - bases\n",
    "    - cost\n",
    "    - gamma, degree, \n",
    "  - Logistic Regression\n",
    "    - scaled\n",
    "  - Play with regularization if we have time!\n",
    "  \n",
    "**optimize accuracy**"
   ]
  },
  {
   "cell_type": "code",
   "execution_count": 49,
   "metadata": {
    "collapsed": false
   },
   "outputs": [],
   "source": [
    "import numpy as np\n",
    "import pandas as pd\n",
    "\n",
    "from sklearn.preprocessing import StandardScaler\n",
    "from sklearn.grid_search import GridSearchCV\n",
    "from sklearn.svm import SVC\n",
    "import statsmodels.api as sm\n",
    "\n",
    "import seaborn as sns\n",
    "import matplotlib.pyplot as plt\n",
    "from matplotlib.colors import Normalize\n",
    "%matplotlib inline\n",
    "\n",
    "class MidpointNormalize(Normalize):\n",
    "\n",
    "    def __init__(self, vmin=None, vmax=None, midpoint=None, clip=False):\n",
    "        self.midpoint = midpoint\n",
    "        Normalize.__init__(self, vmin, vmax, clip)\n",
    "\n",
    "    def __call__(self, value, clip=None):\n",
    "        x, y = [self.vmin, self.midpoint, self.vmax], [0, 0.5, 1]\n",
    "        return np.ma.masked_array(np.interp(value, x, y))"
   ]
  },
  {
   "cell_type": "markdown",
   "metadata": {},
   "source": [
    "### Beginning form the same spot\n"
   ]
  },
  {
   "cell_type": "code",
   "execution_count": 20,
   "metadata": {
    "collapsed": true
   },
   "outputs": [],
   "source": [
    "\n",
    "df_origin = pd.read_csv('data/churn.csv')\n",
    "\n",
    "\n",
    "# In[164]:\n",
    "\n",
    "df = df_origin.copy()\n",
    "\n",
    "df.last_trip_date = pd.to_datetime(df.last_trip_date)\n",
    "\n",
    "df['days_since_last_trip'] = (df.last_trip_date.max() - df.last_trip_date) / np.timedelta64(1, 'D')\n",
    "df['churn'] = (df['days_since_last_trip'] > 30)\n",
    "\n",
    "df.signup_date = pd.to_datetime(df.signup_date)\n",
    "df['days_since_signup'] = (df.last_trip_date.max() - df.signup_date) / np.timedelta64(1, 'D')\n",
    "df = df.drop(['days_since_last_trip', 'last_trip_date', 'signup_date'], axis=1)\n",
    "\n",
    "df_phone = pd.get_dummies(df['phone'])\n",
    "frames = [df, df_phone]\n",
    "df = pd.concat(frames, axis=1)\n",
    "df = df.drop(['phone', 'iPhone'], axis=1)\n",
    "\n",
    "df_city = pd.get_dummies(df['city'])\n",
    "frames = [df, df_city]\n",
    "df = pd.concat(frames, axis=1)\n",
    "df = df.drop('city', axis=1)\n",
    "df = df.drop(['Winterfell'], axis=1).copy()"
   ]
  },
  {
   "cell_type": "code",
   "execution_count": 21,
   "metadata": {
    "collapsed": true
   },
   "outputs": [],
   "source": [
    "df.avg_rating_by_driver = df.avg_rating_by_driver.fillna(df.avg_rating_by_driver.mean())\n",
    "df.avg_rating_of_driver = df.avg_rating_of_driver.fillna(df.avg_rating_of_driver.mean())"
   ]
  },
  {
   "cell_type": "code",
   "execution_count": 22,
   "metadata": {
    "collapsed": false
   },
   "outputs": [
    {
     "name": "stdout",
     "output_type": "stream",
     "text": [
      "<class 'pandas.core.frame.DataFrame'>\n",
      "Int64Index: 50000 entries, 0 to 49999\n",
      "Data columns (total 13 columns):\n",
      "avg_dist                  50000 non-null float64\n",
      "avg_rating_by_driver      50000 non-null float64\n",
      "avg_rating_of_driver      50000 non-null float64\n",
      "avg_surge                 50000 non-null float64\n",
      "surge_pct                 50000 non-null float64\n",
      "trips_in_first_30_days    50000 non-null int64\n",
      "luxury_car_user           50000 non-null bool\n",
      "weekday_pct               50000 non-null float64\n",
      "churn                     50000 non-null bool\n",
      "days_since_signup         50000 non-null float64\n",
      "Android                   50000 non-null float64\n",
      "Astapor                   50000 non-null float64\n",
      "King's Landing            50000 non-null float64\n",
      "dtypes: bool(2), float64(10), int64(1)\n",
      "memory usage: 4.7 MB\n"
     ]
    }
   ],
   "source": [
    "df.info()"
   ]
  },
  {
   "cell_type": "code",
   "execution_count": 23,
   "metadata": {
    "collapsed": true
   },
   "outputs": [],
   "source": [
    "from sklearn.preprocessing import StandardScaler\n",
    "\n",
    "scale = StandardScaler(copy=True, with_mean=True, with_std=True)"
   ]
  },
  {
   "cell_type": "code",
   "execution_count": 24,
   "metadata": {
    "collapsed": true
   },
   "outputs": [],
   "source": [
    "df_c = df.copy()\n",
    "y_scale = df_c.pop('churn')\n",
    "X = pd.DataFrame(StandardScaler().fit_transform(df_c))"
   ]
  },
  {
   "cell_type": "code",
   "execution_count": 25,
   "metadata": {
    "collapsed": false
   },
   "outputs": [],
   "source": [
    "X.columns = df_c.columns"
   ]
  },
  {
   "cell_type": "markdown",
   "metadata": {},
   "source": [
    "# Splitting training and testing"
   ]
  },
  {
   "cell_type": "code",
   "execution_count": 30,
   "metadata": {
    "collapsed": true
   },
   "outputs": [],
   "source": [
    "X_train, X_test, y_train, y_test = train_test_split(X, y, test_size=0.2, random_state=8)"
   ]
  },
  {
   "cell_type": "markdown",
   "metadata": {},
   "source": [
    "# Logistic Regression for Ensemble"
   ]
  },
  {
   "cell_type": "code",
   "execution_count": 70,
   "metadata": {
    "collapsed": false
   },
   "outputs": [
    {
     "data": {
      "text/html": [
       "<div>\n",
       "<table border=\"1\" class=\"dataframe\">\n",
       "  <thead>\n",
       "    <tr style=\"text-align: right;\">\n",
       "      <th></th>\n",
       "      <th>Variable</th>\n",
       "      <th>LogOdds</th>\n",
       "      <th>OddsRatio</th>\n",
       "    </tr>\n",
       "  </thead>\n",
       "  <tbody>\n",
       "    <tr>\n",
       "      <th>9</th>\n",
       "      <td>Android</td>\n",
       "      <td>0.495043</td>\n",
       "      <td>1.640569</td>\n",
       "    </tr>\n",
       "    <tr>\n",
       "      <th>10</th>\n",
       "      <td>Astapor</td>\n",
       "      <td>0.242777</td>\n",
       "      <td>1.274784</td>\n",
       "    </tr>\n",
       "    <tr>\n",
       "      <th>0</th>\n",
       "      <td>avg_dist</td>\n",
       "      <td>0.210257</td>\n",
       "      <td>1.233995</td>\n",
       "    </tr>\n",
       "    <tr>\n",
       "      <th>1</th>\n",
       "      <td>avg_rating_by_driver</td>\n",
       "      <td>0.069641</td>\n",
       "      <td>1.072123</td>\n",
       "    </tr>\n",
       "    <tr>\n",
       "      <th>3</th>\n",
       "      <td>avg_surge</td>\n",
       "      <td>0.043179</td>\n",
       "      <td>1.044125</td>\n",
       "    </tr>\n",
       "    <tr>\n",
       "      <th>2</th>\n",
       "      <td>avg_rating_of_driver</td>\n",
       "      <td>0.039763</td>\n",
       "      <td>1.040564</td>\n",
       "    </tr>\n",
       "    <tr>\n",
       "      <th>7</th>\n",
       "      <td>weekday_pct</td>\n",
       "      <td>0.012887</td>\n",
       "      <td>1.012970</td>\n",
       "    </tr>\n",
       "    <tr>\n",
       "      <th>8</th>\n",
       "      <td>days_since_signup</td>\n",
       "      <td>-0.056286</td>\n",
       "      <td>0.945269</td>\n",
       "    </tr>\n",
       "    <tr>\n",
       "      <th>4</th>\n",
       "      <td>surge_pct</td>\n",
       "      <td>-0.081041</td>\n",
       "      <td>0.922156</td>\n",
       "    </tr>\n",
       "    <tr>\n",
       "      <th>6</th>\n",
       "      <td>luxury_car_user</td>\n",
       "      <td>-0.425463</td>\n",
       "      <td>0.653467</td>\n",
       "    </tr>\n",
       "    <tr>\n",
       "      <th>5</th>\n",
       "      <td>trips_in_first_30_days</td>\n",
       "      <td>-0.469462</td>\n",
       "      <td>0.625338</td>\n",
       "    </tr>\n",
       "    <tr>\n",
       "      <th>11</th>\n",
       "      <td>King's Landing</td>\n",
       "      <td>-0.490048</td>\n",
       "      <td>0.612597</td>\n",
       "    </tr>\n",
       "  </tbody>\n",
       "</table>\n",
       "</div>"
      ],
      "text/plain": [
       "                  Variable   LogOdds  OddsRatio\n",
       "9                  Android  0.495043   1.640569\n",
       "10                 Astapor  0.242777   1.274784\n",
       "0                 avg_dist  0.210257   1.233995\n",
       "1     avg_rating_by_driver  0.069641   1.072123\n",
       "3                avg_surge  0.043179   1.044125\n",
       "2     avg_rating_of_driver  0.039763   1.040564\n",
       "7              weekday_pct  0.012887   1.012970\n",
       "8        days_since_signup -0.056286   0.945269\n",
       "4                surge_pct -0.081041   0.922156\n",
       "6          luxury_car_user -0.425463   0.653467\n",
       "5   trips_in_first_30_days -0.469462   0.625338\n",
       "11          King's Landing -0.490048   0.612597"
      ]
     },
     "execution_count": 70,
     "metadata": {},
     "output_type": "execute_result"
    }
   ],
   "source": [
    "\n",
    "\n",
    "X_log = X_train.copy()\n",
    "y_log = y_train.copy()\n",
    "\n",
    "log_model = LogisticRegression()\n",
    "log_model.fit(X_log, y_log)\n",
    "\n",
    "logit_coefs = pd.DataFrame(zip(X.columns, np.transpose(model.coef_).squeeze())).\\\n",
    "    rename(columns = {0:'Variable', 1:'LogOdds'})\n",
    "    \n",
    "logit_coefs['OddsRatio'] = np.exp(logit_coefs.LogOdds)\n",
    "\n",
    "logit_coefs.sort_values('OddsRatio', ascending=False)"
   ]
  },
  {
   "cell_type": "code",
   "execution_count": 72,
   "metadata": {
    "collapsed": false
   },
   "outputs": [
    {
     "data": {
      "text/plain": [
       "0.71160000000000001"
      ]
     },
     "execution_count": 72,
     "metadata": {},
     "output_type": "execute_result"
    }
   ],
   "source": [
    "sum(log_model.predict(X_test) == y_test)/float(len(y_test))"
   ]
  },
  {
   "cell_type": "markdown",
   "metadata": {},
   "source": [
    "# SVM for ensemble\n"
   ]
  },
  {
   "cell_type": "code",
   "execution_count": 38,
   "metadata": {
    "collapsed": true
   },
   "outputs": [],
   "source": [
    "from sklearn.grid_search import GridSearchCV\n",
    "from sklearn.svm import SVC"
   ]
  },
  {
   "cell_type": "markdown",
   "metadata": {},
   "source": [
    "### Radial Kernel"
   ]
  },
  {
   "cell_type": "code",
   "execution_count": 39,
   "metadata": {
    "collapsed": true
   },
   "outputs": [],
   "source": [
    "C_range =     [10**x for x in np.arange(-3,4,1)]\n",
    "gamma_range = [10**x for x in np.arange(-3,4,1)]\n",
    "\n",
    "params = {'C':     C_range,\n",
    "          'gamma': gamma_range}"
   ]
  },
  {
   "cell_type": "code",
   "execution_count": 40,
   "metadata": {
    "collapsed": false
   },
   "outputs": [
    {
     "data": {
      "text/plain": [
       "[0.001, 0.01, 0.10000000000000001, 1, 10, 100, 1000]"
      ]
     },
     "execution_count": 40,
     "metadata": {},
     "output_type": "execute_result"
    }
   ],
   "source": [
    "C_range"
   ]
  },
  {
   "cell_type": "code",
   "execution_count": 46,
   "metadata": {
    "collapsed": false
   },
   "outputs": [],
   "source": [
    "# Initialize the SVC model\n",
    "Pysvm = SVC(kernel='rbf')\n",
    "\n",
    "# Creaste a gridsearch object with our defined parameters\n",
    "# the cv argument takes input k = folds\n",
    "svmGS = GridSearchCV(Pysvm, params, scoring='accuracy', cv=3, n_jobs=-1)\n",
    "\n",
    "X_train_svm, X_test_svm, y_train_svm, y_test_svm = train_test_split(X_train, y_train, test_size=0.9, random_state=8)"
   ]
  },
  {
   "cell_type": "code",
   "execution_count": 47,
   "metadata": {
    "collapsed": false
   },
   "outputs": [],
   "source": [
    "svmGS.fit(X_train_svm, y_train_svm);"
   ]
  },
  {
   "cell_type": "code",
   "execution_count": 67,
   "metadata": {
    "collapsed": false
   },
   "outputs": [
    {
     "data": {
      "image/png": "[encoded data removed]",
      "text/plain": [
       "<matplotlib.figure.Figure at 0x120344ed0>"
      ]
     },
     "metadata": {},
     "output_type": "display_data"
    }
   ],
   "source": [
    "n_labs = 5\n",
    "scores = [x[1] for x in svmGS.grid_scores_]\n",
    "scores = np.array(scores).reshape(len(C_range), len(gamma_range))\n",
    "\n",
    "plt.figure(figsize=(12,6) )\n",
    "plt.imshow(scores,\n",
    "           interpolation='nearest',\n",
    "           cmap=plt.cm.viridis,\n",
    "           norm=MidpointNormalize(vmin=0.6, midpoint=0.72),\n",
    "           aspect = 0.5)\n",
    "plt.xlabel('Gamma')\n",
    "plt.ylabel('C')\n",
    "plt.colorbar()\n",
    "plt.xticks(np.arange(0, len(gamma_range)), gamma_range, rotation=45)\n",
    "plt.yticks(np.arange(0, len(C_range)),  C_range)\n",
    "plt.title('3-fold Cross-Validation Accuracy Scores for SVM w/ Radial Basis Function')\n",
    "plt.grid(False)\n",
    "plt.show()"
   ]
  },
  {
   "cell_type": "markdown",
   "metadata": {},
   "source": [
    "Radial basis function SVM accuracy"
   ]
  },
  {
   "cell_type": "code",
   "execution_count": 73,
   "metadata": {
    "collapsed": false
   },
   "outputs": [
    {
     "data": {
      "text/plain": [
       "0.76047222222222222"
      ]
     },
     "execution_count": 73,
     "metadata": {},
     "output_type": "execute_result"
    }
   ],
   "source": [
    "sum(svmGS.predict(X_test_svm) == y_test_svm)/float(len(y_test_svm))\n"
   ]
  },
  {
   "cell_type": "code",
   "execution_count": 86,
   "metadata": {
    "collapsed": false
   },
   "outputs": [
    {
     "data": {
      "text/plain": [
       "{'C': 1, 'gamma': 0.10000000000000001}"
      ]
     },
     "execution_count": 86,
     "metadata": {},
     "output_type": "execute_result"
    }
   ],
   "source": [
    "svmGS.best_params_"
   ]
  },
  {
   "cell_type": "markdown",
   "metadata": {},
   "source": [
    "### Linear Kernel\n"
   ]
  },
  {
   "cell_type": "code",
   "execution_count": 80,
   "metadata": {
    "collapsed": false
   },
   "outputs": [],
   "source": [
    "C_range =     [10**x for x in np.arange(-2,3,1)]\n",
    "gamma_range = [10**x for x in np.arange(-2,3,1)]\n",
    "\n",
    "params = {'C':     C_range,\n",
    "          'gamma': gamma_range}\n",
    "# Initialize the SVC model\n",
    "Pysvm_lin = SVC(kernel='linear')\n",
    "\n",
    "# Creaste a gridsearch object with our defined parameters\n",
    "# the cv argument takes input k = folds\n",
    "svmGS_lin = GridSearchCV(Pysvm_lin, params, scoring='accuracy', cv=3, n_jobs=-1, verbose=3)\n",
    "\n",
    "X_train_svm, X_test_svm, y_train_svm, y_test_svm = train_test_split(X_train, y_train, test_size=0.95, random_state=8)"
   ]
  },
  {
   "cell_type": "code",
   "execution_count": 81,
   "metadata": {
    "collapsed": true
   },
   "outputs": [
    {
     "name": "stdout",
     "output_type": "stream",
     "text": [
      "Fitting 3 folds for each of 25 candidates, totalling 75 fits\n"
     ]
    },
    {
     "name": "stderr",
     "output_type": "stream",
     "text": [
      "[Parallel(n_jobs=-1)]: Done  52 tasks      | elapsed:    6.7s\n",
      "[Parallel(n_jobs=-1)]: Done  75 out of  75 | elapsed:  1.1min finished\n"
     ]
    },
    {
     "name": "stdout",
     "output_type": "stream",
     "text": [
      "[CV] C=0.01, gamma=0.01 ..............................................\n",
      "[CV] C=0.01, gamma=0.01 ..............................................\n",
      "[CV] ..................... C=0.01, gamma=0.01, score=0.709145 -   0.1s[CV] ..................... C=0.01, gamma=0.01, score=0.716642 -   0.1s\n",
      "\n",
      "[CV] C=0.01, gamma=0.1 ...............................................\n",
      "[CV] C=0.01, gamma=0.01 ..............................................\n",
      "[CV] ...................... C=0.01, gamma=0.1, score=0.709145 -   0.1s[CV] ..................... C=0.01, gamma=0.01, score=0.701201 -   0.1s\n",
      "\n",
      "[CV] C=0.01, gamma=1 .................................................\n",
      "[CV] C=0.01, gamma=0.1 ...............................................\n",
      "[CV] ........................ C=0.01, gamma=1, score=0.709145 -   0.1s[CV] ...................... C=0.01, gamma=0.1, score=0.716642 -   0.1s\n",
      "\n",
      "[CV] C=0.01, gamma=1 .................................................\n",
      "[CV] C=0.01, gamma=0.1 ...............................................\n",
      "[CV] ........................ C=0.01, gamma=1, score=0.716642 -   0.1s[CV] ...................... C=0.01, gamma=0.1, score=0.701201 -   0.1s\n",
      "\n",
      "[CV] C=0.01, gamma=10 ................................................\n",
      "[CV] C=0.01, gamma=1 .................................................\n",
      "[CV] ....................... C=0.01, gamma=10, score=0.716642 -   0.1s[CV] ........................ C=0.01, gamma=1, score=0.701201 -   0.1s\n",
      "\n",
      "[CV] C=0.01, gamma=10 ................................................\n",
      "[CV] C=0.01, gamma=10 ................................................\n",
      "[CV] ....................... C=0.01, gamma=10, score=0.701201 -   0.1s[CV] ....................... C=0.01, gamma=10, score=0.709145 -   0.1s\n",
      "\n",
      "[CV] C=0.01, gamma=100 ...............................................\n",
      "[CV] C=0.01, gamma=100 ...............................................\n",
      "[CV] ...................... C=0.01, gamma=100, score=0.701201 -   0.1s[CV] ...................... C=0.01, gamma=100, score=0.709145 -   0.1s\n",
      "\n",
      "[CV] C=0.1, gamma=0.01 ...............................................\n",
      "[CV] C=0.01, gamma=100 ...............................................\n",
      "[CV] ...................... C=0.1, gamma=0.01, score=0.710645 -   0.1s[CV] ...................... C=0.01, gamma=100, score=0.716642 -   0.1s\n",
      "\n",
      "[CV] C=0.1, gamma=0.1 ................................................\n",
      "[CV] C=0.1, gamma=0.01 ...............................................\n",
      "[CV] ....................... C=0.1, gamma=0.1, score=0.710645 -   0.1s[CV] ...................... C=0.1, gamma=0.01, score=0.745127 -   0.1s\n",
      "\n",
      "[CV] C=0.1, gamma=0.1 ................................................\n",
      "[CV] C=0.1, gamma=0.01 ...............................................\n",
      "[CV] ....................... C=0.1, gamma=0.1, score=0.745127 -   0.1s[CV] ...................... C=0.1, gamma=0.01, score=0.726727 -   0.1s\n",
      "\n",
      "[CV] C=0.1, gamma=1 ..................................................\n",
      "[CV] C=0.1, gamma=0.1 ................................................\n",
      "[CV] ......................... C=0.1, gamma=1, score=0.745127 -   0.1s[CV] ....................... C=0.1, gamma=0.1, score=0.726727 -   0.1s\n",
      "\n",
      "[CV] C=0.1, gamma=1 ..................................................\n",
      "[CV] C=0.1, gamma=1 ..................................................\n",
      "[CV] ......................... C=0.1, gamma=1, score=0.726727 -   0.1s[CV] ......................... C=0.1, gamma=1, score=0.710645 -   0.1s\n",
      "\n",
      "[CV] C=0.1, gamma=10 .................................................\n",
      "[CV] C=0.1, gamma=10 .................................................\n",
      "[CV] ........................ C=0.1, gamma=10, score=0.726727 -   0.1s[CV] ........................ C=0.1, gamma=10, score=0.710645 -   0.1s\n",
      "\n",
      "[CV] C=0.1, gamma=100 ................................................\n",
      "[CV] C=0.1, gamma=10 .................................................\n",
      "[CV] ....................... C=0.1, gamma=100, score=0.710645 -   0.1s[CV] ........................ C=0.1, gamma=10, score=0.745127 -   0.1s\n",
      "\n",
      "[CV] C=1, gamma=0.01 .................................................\n",
      "[CV] C=0.1, gamma=100 ................................................\n",
      "[CV] ........................ C=1, gamma=0.01, score=0.709145 -   0.2s[CV] ....................... C=0.1, gamma=100, score=0.745127 -   0.1s\n",
      "\n",
      "[CV] C=1, gamma=0.01 .................................................\n",
      "[CV] C=0.1, gamma=100 ................................................\n",
      "[CV] ........................ C=1, gamma=0.01, score=0.743628 -   0.2s[CV] ....................... C=0.1, gamma=100, score=0.726727 -   0.1s\n",
      "\n",
      "[CV] C=1, gamma=0.1 ..................................................\n",
      "[CV] C=1, gamma=0.01 .................................................\n",
      "[CV] ......................... C=1, gamma=0.1, score=0.743628 -   0.2s[CV] ........................ C=1, gamma=0.01, score=0.731231 -   0.2s\n",
      "\n",
      "[CV] C=1, gamma=0.1 ..................................................\n",
      "[CV] C=1, gamma=0.1 ..................................................\n",
      "[CV] ......................... C=1, gamma=0.1, score=0.731231 -   0.2s[CV] ......................... C=1, gamma=0.1, score=0.709145 -   0.2s\n",
      "\n",
      "[CV] C=1, gamma=1 ....................................................\n",
      "[CV] C=1, gamma=1 ....................................................\n",
      "[CV] ........................... C=1, gamma=1, score=0.731231 -   0.2s[CV] ........................... C=1, gamma=1, score=0.709145 -   0.2s\n",
      "\n",
      "[CV] C=1, gamma=10 ...................................................\n",
      "[CV] C=1, gamma=1 ....................................................\n",
      "[CV] .......................... C=1, gamma=10, score=0.709145 -   0.2s[CV] ........................... C=1, gamma=1, score=0.743628 -   0.2s\n",
      "\n",
      "[CV] C=1, gamma=100 ..................................................\n",
      "[CV] C=1, gamma=10 ...................................................\n",
      "[CV] ......................... C=1, gamma=100, score=0.709145 -   0.2s[CV] .......................... C=1, gamma=10, score=0.743628 -   0.2s\n",
      "\n",
      "[CV] C=1, gamma=100 ..................................................\n",
      "[CV] C=1, gamma=10 ...................................................\n",
      "[CV] ......................... C=1, gamma=100, score=0.743628 -   0.2s[CV] .......................... C=1, gamma=10, score=0.731231 -   0.2s\n",
      "\n",
      "[CV] C=10, gamma=0.01 ................................................\n",
      "[CV] C=1, gamma=100 ..................................................\n",
      "[CV] ....................... C=10, gamma=0.01, score=0.743628 -   0.8s[CV] ......................... C=1, gamma=100, score=0.731231 -   0.2s\n",
      "\n",
      "[CV] C=10, gamma=0.01 ................................................\n",
      "[CV] C=10, gamma=0.01 ................................................\n",
      "[CV] ....................... C=10, gamma=0.01, score=0.731231 -   1.0s[CV] ....................... C=10, gamma=0.01, score=0.709145 -   0.9s\n",
      "\n",
      "[CV] C=10, gamma=0.1 .................................................\n",
      "[CV] C=10, gamma=0.1 .................................................\n",
      "[CV] ........................ C=10, gamma=0.1, score=0.731231 -   1.0s[CV] ........................ C=10, gamma=0.1, score=0.709145 -   0.9s\n",
      "\n",
      "[CV] C=10, gamma=1 ...................................................\n",
      "[CV] C=10, gamma=0.1 .................................................\n",
      "[CV] .......................... C=10, gamma=1, score=0.709145 -   1.0s[CV] ........................ C=10, gamma=0.1, score=0.743628 -   0.8s\n",
      "\n",
      "[CV] C=10, gamma=10 ..................................................\n",
      "[CV] C=10, gamma=1 ...................................................\n",
      "[CV] ......................... C=10, gamma=10, score=0.709145 -   0.9s[CV] .......................... C=10, gamma=1, score=0.743628 -   0.8s\n",
      "\n",
      "[CV] C=10, gamma=10 ..................................................\n",
      "[CV] C=10, gamma=1 ...................................................\n",
      "[CV] ......................... C=10, gamma=10, score=0.743628 -   1.3s[CV] .......................... C=10, gamma=1, score=0.731231 -   1.0s\n",
      "\n",
      "[CV] C=10, gamma=100 .................................................\n",
      "[CV] C=10, gamma=10 ..................................................\n",
      "[CV] ........................ C=10, gamma=100, score=0.743628 -   1.2s[CV] ......................... C=10, gamma=10, score=0.731231 -   1.4s\n",
      "\n",
      "[CV] C=10, gamma=100 .................................................\n",
      "[CV] C=10, gamma=100 .................................................\n",
      "[CV] ........................ C=10, gamma=100, score=0.731231 -   1.1s[CV] ........................ C=10, gamma=100, score=0.709145 -   1.4s\n",
      "\n",
      "[CV] C=100, gamma=0.01 ...............................................\n",
      "[CV] C=100, gamma=0.01 ...............................................\n",
      "[CV] ...................... C=100, gamma=0.01, score=0.745127 -   6.5s[CV] ...................... C=100, gamma=0.01, score=0.709145 -   7.2s\n",
      "\n",
      "[CV] C=100, gamma=0.1 ................................................\n",
      "[CV] C=100, gamma=0.01 ...............................................\n",
      "[CV] ....................... C=100, gamma=0.1, score=0.709145 -   6.4s[CV] ...................... C=100, gamma=0.01, score=0.731231 -   8.0s\n",
      "\n",
      "[CV] C=100, gamma=0.1 ................................................\n",
      "[CV] C=100, gamma=0.1 ................................................\n",
      "[CV] ....................... C=100, gamma=0.1, score=0.745127 -   5.9s[CV] ....................... C=100, gamma=0.1, score=0.731231 -   8.4s\n",
      "\n",
      "[CV] C=100, gamma=1 ..................................................\n",
      "[CV] C=100, gamma=1 ..................................................\n",
      "[CV] ......................... C=100, gamma=1, score=0.709145 -   7.4s[CV] ......................... C=100, gamma=1, score=0.745127 -   7.1s\n",
      "\n",
      "[CV] C=100, gamma=1 ..................................................\n",
      "[CV] C=100, gamma=10 .................................................\n",
      "[CV] ......................... C=100, gamma=1, score=0.731231 -   8.8s[CV] ........................ C=100, gamma=10, score=0.709145 -   7.0s\n",
      "\n",
      "[CV] C=100, gamma=10 .................................................\n",
      "[CV] C=100, gamma=10 .................................................\n",
      "[CV] ........................ C=100, gamma=10, score=0.745127 -   6.2s[CV] ........................ C=100, gamma=10, score=0.731231 -   8.4s\n",
      "\n",
      "[CV] C=100, gamma=100 ................................................\n",
      "[CV] C=100, gamma=100 ................................................\n",
      "[CV] ....................... C=100, gamma=100, score=0.709145 -   6.6s[CV] ....................... C=100, gamma=100, score=0.745127 -   6.4s\n",
      "\n",
      "[CV] C=100, gamma=100 ................................................\n",
      "[CV] ....................... C=100, gamma=100, score=0.731231 -   9.0s\n"
     ]
    }
   ],
   "source": [
    "svmGS_lin.fit(X_train_svm, y_train_svm);"
   ]
  },
  {
   "cell_type": "code",
   "execution_count": 82,
   "metadata": {
    "collapsed": false
   },
   "outputs": [
    {
     "data": {
      "text/plain": [
       "0.71557894736842109"
      ]
     },
     "execution_count": 82,
     "metadata": {},
     "output_type": "execute_result"
    }
   ],
   "source": [
    "sum(svmGS_lin.predict(X_test_svm) == y_test_svm)/float(len(y_test_svm))"
   ]
  },
  {
   "cell_type": "code",
   "execution_count": 87,
   "metadata": {
    "collapsed": false
   },
   "outputs": [
    {
     "data": {
      "text/plain": [
       "{'C': 100, 'gamma': 0.01}"
      ]
     },
     "execution_count": 87,
     "metadata": {},
     "output_type": "execute_result"
    }
   ],
   "source": [
    "svmGS_lin.best_params_"
   ]
  },
  {
   "cell_type": "markdown",
   "metadata": {},
   "source": [
    "### Poly kernel"
   ]
  },
  {
   "cell_type": "code",
   "execution_count": 83,
   "metadata": {
    "collapsed": true
   },
   "outputs": [],
   "source": [
    "C_range =     [10**x for x in np.arange(-2,4,1)]\n",
    "poly_range = np.arange(2,4,1)\n",
    "\n",
    "params = {'C':     C_range,\n",
    "          'degree': poly_range}\n",
    "# Initialize the SVC model\n",
    "Pysvm_poly = SVC(kernel='poly')\n",
    "\n",
    "# Creaste a gridsearch object with our defined parameters\n",
    "# the cv argument takes input k = folds\n",
    "svmGS_poly = GridSearchCV(Pysvm_poly, params, scoring='accuracy', cv=3, n_jobs=-1, verbose=5)\n",
    "\n",
    "X_train_svm, X_test_svm, y_train_svm, y_test_svm = train_test_split(X_train, y_train, test_size=0.95, random_state=8)"
   ]
  },
  {
   "cell_type": "code",
   "execution_count": 84,
   "metadata": {
    "collapsed": true
   },
   "outputs": [
    {
     "name": "stdout",
     "output_type": "stream",
     "text": [
      "Fitting 3 folds for each of 12 candidates, totalling 36 fits\n"
     ]
    },
    {
     "name": "stderr",
     "output_type": "stream",
     "text": [
      "[Parallel(n_jobs=-1)]: Done  24 tasks      | elapsed:    2.4s\n",
      "[Parallel(n_jobs=-1)]: Done  36 out of  36 | elapsed:  1.8min finished\n"
     ]
    },
    {
     "name": "stdout",
     "output_type": "stream",
     "text": [
      "[CV] C=0.01, degree=2 ................................................\n",
      "[CV] C=0.01, degree=2 ................................................\n",
      "[CV] ....................... C=0.01, degree=2, score=0.617691 -   0.1s[CV] ....................... C=0.01, degree=2, score=0.616192 -   0.1s\n",
      "\n",
      "[CV] C=0.01, degree=3 ................................................\n",
      "[CV] C=0.01, degree=2 ................................................\n",
      "[CV] ....................... C=0.01, degree=3, score=0.617691 -   0.1s[CV] ....................... C=0.01, degree=2, score=0.620120 -   0.1s\n",
      "\n",
      "[CV] C=0.1, degree=2 .................................................\n",
      "[CV] C=0.01, degree=3 ................................................\n",
      "[CV] ........................ C=0.1, degree=2, score=0.680660 -   0.1s[CV] ....................... C=0.01, degree=3, score=0.616192 -   0.1s\n",
      "\n",
      "[CV] C=0.1, degree=2 .................................................\n",
      "[CV] C=0.01, degree=3 ................................................\n",
      "[CV] ........................ C=0.1, degree=2, score=0.697151 -   0.1s[CV] ....................... C=0.01, degree=3, score=0.620120 -   0.1s\n",
      "\n",
      "[CV] C=0.1, degree=3 .................................................\n",
      "[CV] C=0.1, degree=2 .................................................\n",
      "[CV] ........................ C=0.1, degree=3, score=0.686657 -   0.1s[CV] ........................ C=0.1, degree=2, score=0.695195 -   0.1s\n",
      "\n",
      "[CV] C=0.1, degree=3 .................................................\n",
      "[CV] C=0.1, degree=3 .................................................\n",
      "[CV] ........................ C=0.1, degree=3, score=0.672673 -   0.1s[CV] ........................ C=0.1, degree=3, score=0.685157 -   0.1s\n",
      "\n",
      "[CV] C=1, degree=2 ...................................................\n",
      "[CV] C=1, degree=2 ...................................................\n",
      "[CV] .......................... C=1, degree=2, score=0.710210 -   0.1s[CV] .......................... C=1, degree=2, score=0.715142 -   0.1s\n",
      "\n",
      "[CV] C=1, degree=3 ...................................................\n",
      "[CV] C=1, degree=2 ...................................................\n",
      "[CV] .......................... C=1, degree=3, score=0.706147 -   0.1s[CV] .......................... C=1, degree=2, score=0.748126 -   0.1s\n",
      "\n",
      "[CV] C=10, degree=2 ..................................................\n",
      "[CV] C=1, degree=3 ...................................................\n",
      "[CV] ......................... C=10, degree=2, score=0.734633 -   0.2s[CV] .......................... C=1, degree=3, score=0.736132 -   0.1s\n",
      "\n",
      "[CV] C=10, degree=2 ..................................................\n",
      "[CV] C=1, degree=3 ...................................................\n",
      "[CV] ......................... C=10, degree=2, score=0.763118 -   0.3s[CV] .......................... C=1, degree=3, score=0.717718 -   0.1s\n",
      "\n",
      "[CV] C=10, degree=3 ..................................................\n",
      "[CV] C=10, degree=2 ..................................................\n",
      "[CV] ......................... C=10, degree=3, score=0.719640 -   0.4s[CV] ......................... C=10, degree=2, score=0.723724 -   0.2s\n",
      "\n",
      "[CV] C=10, degree=3 ..................................................\n",
      "[CV] C=10, degree=3 ..................................................\n",
      "[CV] ......................... C=10, degree=3, score=0.737237 -   0.4s[CV] ......................... C=10, degree=3, score=0.709145 -   0.3s\n",
      "\n",
      "[CV] C=100, degree=2 .................................................\n",
      "[CV] C=100, degree=2 .................................................\n",
      "[CV] ........................ C=100, degree=2, score=0.735736 -   1.4s[CV] ........................ C=100, degree=2, score=0.739130 -   1.7s\n",
      "\n",
      "[CV] C=100, degree=3 .................................................\n",
      "[CV] C=100, degree=2 .................................................\n",
      "[CV] ........................ C=100, degree=3, score=0.730135 -   3.8s[CV] ........................ C=100, degree=2, score=0.766117 -   2.4s\n",
      "\n",
      "[CV] C=1000, degree=2 ................................................\n",
      "[CV] C=100, degree=3 .................................................\n",
      "[CV] ....................... C=1000, degree=2, score=0.731634 -  17.7s[CV] ........................ C=100, degree=3, score=0.715142 -   2.9s\n",
      "\n",
      "[CV] C=1000, degree=2 ................................................\n",
      "[CV] C=100, degree=3 .................................................\n",
      "[CV] ....................... C=1000, degree=2, score=0.764618 -  36.6s[CV] ........................ C=100, degree=3, score=0.722222 -   2.6s\n",
      "\n",
      "[CV] C=1000, degree=3 ................................................\n",
      "[CV] C=1000, degree=2 ................................................\n",
      "[CV] ....................... C=1000, degree=3, score=0.706147 -  22.4s[CV] ....................... C=1000, degree=2, score=0.729730 -  11.6s\n",
      "\n",
      "[CV] C=1000, degree=3 ................................................\n",
      "[CV] ....................... C=1000, degree=3, score=0.722639 -  56.0s\n",
      "[CV] C=1000, degree=3 ................................................\n",
      "[CV] ....................... C=1000, degree=3, score=0.699700 -  30.4s\n"
     ]
    }
   ],
   "source": [
    "svmGS_poly.fit(X_train_svm, y_train_svm);"
   ]
  },
  {
   "cell_type": "code",
   "execution_count": 85,
   "metadata": {
    "collapsed": false
   },
   "outputs": [
    {
     "data": {
      "text/plain": [
       "0.7392894736842105"
      ]
     },
     "execution_count": 85,
     "metadata": {},
     "output_type": "execute_result"
    }
   ],
   "source": [
    "sum(svmGS_poly.predict(X_test_svm) == y_test_svm)/float(len(y_test_svm))"
   ]
  },
  {
   "cell_type": "code",
   "execution_count": 88,
   "metadata": {
    "collapsed": false
   },
   "outputs": [
    {
     "data": {
      "text/plain": [
       "{'C': 100, 'degree': 2}"
      ]
     },
     "execution_count": 88,
     "metadata": {},
     "output_type": "execute_result"
    }
   ],
   "source": [
    "svmGS_poly.best_params_"
   ]
  },
  {
   "cell_type": "markdown",
   "metadata": {},
   "source": [
    "## KNN - optimizing K"
   ]
  },
  {
   "cell_type": "code",
   "execution_count": 89,
   "metadata": {
    "collapsed": true
   },
   "outputs": [],
   "source": [
    "from sklearn.neighbors import KNeighborsClassifier"
   ]
  },
  {
   "cell_type": "code",
   "execution_count": 97,
   "metadata": {
    "collapsed": true
   },
   "outputs": [],
   "source": [
    "k_range =  [x for x in np.arange(6,15)]\n",
    "\n",
    "\n",
    "params = {'n_neighbors': k_range}\n",
    "# Initialize the SVC model\n",
    "knn_mod = KNeighborsClassifier()\n",
    "\n",
    "# Creaste a gridsearch object with our defined parameters\n",
    "# the cv argument takes input k = folds\n",
    "knnGS = GridSearchCV(knn_mod, params, scoring='accuracy', cv=3, n_jobs=-1, verbose=1)\n",
    "\n",
    "X_train_knn, X_test_knn, y_train_knn, y_test_knn = train_test_split(X_train, y_train, test_size=0.8, random_state=8)"
   ]
  },
  {
   "cell_type": "code",
   "execution_count": 98,
   "metadata": {
    "collapsed": false
   },
   "outputs": [
    {
     "name": "stdout",
     "output_type": "stream",
     "text": [
      "Fitting 3 folds for each of 9 candidates, totalling 27 fits\n"
     ]
    },
    {
     "name": "stderr",
     "output_type": "stream",
     "text": [
      "[Parallel(n_jobs=-1)]: Done  27 out of  27 | elapsed:    7.2s finished\n"
     ]
    }
   ],
   "source": [
    "knnGS.fit(X_train_knn, y_train_knn);"
   ]
  },
  {
   "cell_type": "code",
   "execution_count": 99,
   "metadata": {
    "collapsed": false
   },
   "outputs": [
    {
     "data": {
      "text/plain": [
       "0.74371874999999998"
      ]
     },
     "execution_count": 99,
     "metadata": {},
     "output_type": "execute_result"
    }
   ],
   "source": [
    "sum(knnGS.predict(X_test_knn) == y_test_knn)/float(len(y_test_knn))"
   ]
  },
  {
   "cell_type": "code",
   "execution_count": 100,
   "metadata": {
    "collapsed": false
   },
   "outputs": [
    {
     "data": {
      "text/plain": [
       "{'n_neighbors': 11}"
      ]
     },
     "execution_count": 100,
     "metadata": {},
     "output_type": "execute_result"
    }
   ],
   "source": [
    "knnGS.best_params_"
   ]
  },
  {
   "cell_type": "markdown",
   "metadata": {},
   "source": [
    "# Building the Ensemble Classifier\n",
    "\n",
    "### Best params:\n",
    "\n",
    "**SVM w/ radial basis function**: 0.76 CV acc\n",
    "  - 'C': 1\n",
    "  - 'gamma': 0.1\n",
    "\n",
    "**KNN**: 0.743 CV acc\n",
    "  - 'n_neighbors': 11\n",
    "\n",
    "**Logistic Regression**: 0.72 CV acc\n",
    "\n",
    "**XGBoost**: 0.793 CV acc\n",
    "  - 'learning_rate': 0.1\n",
    "  - 'n_estimators': 300\n",
    "  - 'min_child_weight': 1\n",
    "  - 'gamma': 0\n",
    "  - 'seed': 8 \n",
    "  - 'colsample_bytree': 0.4\n",
    "  - 'max_depth': 4\n",
    "  - 'subsample': 0.5"
   ]
  },
  {
   "cell_type": "code",
   "execution_count": 101,
   "metadata": {
    "collapsed": true
   },
   "outputs": [],
   "source": [
    "knn_ens = KNeighborsClassifier(n_neighbors = 11).fit(X_train, y_train)"
   ]
  },
  {
   "cell_type": "code",
   "execution_count": 102,
   "metadata": {
    "collapsed": true
   },
   "outputs": [],
   "source": [
    "logistic_ens = LogisticRegression().fit(X_train, y_train)"
   ]
  },
  {
   "cell_type": "code",
   "execution_count": 103,
   "metadata": {
    "collapsed": true
   },
   "outputs": [],
   "source": [
    "svm_ens = SVC(kernel='rbf', C=1, gamma=0.1).fit(X_train, y_train)\n"
   ]
  },
  {
   "cell_type": "code",
   "execution_count": null,
   "metadata": {
    "collapsed": true
   },
   "outputs": [],
   "source": [
    "xgb_ens = xgboost.XGBClassifier(learning_rate=.1, n_estimators=300,  min_child_weight=1,\n",
    "                                gamma=0, seed=8, colsample_bytree=.4, max_depth=4,\n",
    "                                subsample=.5).fit(X_train, y_train)"
   ]
  }
 ],
 "metadata": {
  "kernelspec": {
   "display_name": "Python 2",
   "language": "python",
   "name": "python2"
  },
  "language_info": {
   "codemirror_mode": {
    "name": "ipython",
    "version": 2
   },
   "file_extension": ".py",
   "mimetype": "text/x-python",
   "name": "python",
   "nbconvert_exporter": "python",
   "pygments_lexer": "ipython2",
   "version": "2.7.11"
  }
 },
 "nbformat": 4,
 "nbformat_minor": 0
}
